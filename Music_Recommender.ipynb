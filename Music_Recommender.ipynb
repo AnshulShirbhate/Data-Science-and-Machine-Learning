{
  "nbformat": 4,
  "nbformat_minor": 0,
  "metadata": {
    "colab": {
      "provenance": [],
      "authorship_tag": "ABX9TyP/3dB8TNJDTOlyhdfKazL/",
      "include_colab_link": true
    },
    "kernelspec": {
      "name": "python3",
      "display_name": "Python 3"
    },
    "language_info": {
      "name": "python"
    }
  },
  "cells": [
    {
      "cell_type": "markdown",
      "metadata": {
        "id": "view-in-github",
        "colab_type": "text"
      },
      "source": [
        "<a href=\"https://colab.research.google.com/github/AnshulShirbhate/Data-Science-and-Machine-Learning/blob/master/Music_Recommender.ipynb\" target=\"_parent\"><img src=\"https://colab.research.google.com/assets/colab-badge.svg\" alt=\"Open In Colab\"/></a>"
      ]
    },
    {
      "cell_type": "code",
      "execution_count": null,
      "metadata": {
        "id": "c-QGolGBt_vk"
      },
      "outputs": [],
      "source": [
        "import pandas as pd\n",
        "\n",
        "# Algorithm to traing the model for making predictions\n",
        "from sklearn.tree import DecisionTreeClassifier as dtc\n",
        "\n",
        "# To persist the model that is trained\n",
        "import joblib\n",
        "\n",
        "# To measure the accuracy of the model\n",
        "from sklearn.metrics import accuracy_score\n",
        "\n",
        "# To split data into training and testing set\n",
        "from sklearn.model_selection import train_test_split"
      ]
    },
    {
      "cell_type": "code",
      "source": [
        "# Load the data in a dataframe\n",
        "music_data = pd.read_csv('music.csv')\n",
        "\n",
        "# Check the columns\n",
        "music_data.columns"
      ],
      "metadata": {
        "colab": {
          "base_uri": "https://localhost:8080/"
        },
        "id": "9iobdUVgvJul",
        "outputId": "9fe8994f-b192-4e8d-dd9c-34de5ce97bab"
      },
      "execution_count": null,
      "outputs": [
        {
          "output_type": "execute_result",
          "data": {
            "text/plain": [
              "Index(['age', 'gender', 'genre'], dtype='object')"
            ]
          },
          "metadata": {},
          "execution_count": 5
        }
      ]
    },
    {
      "cell_type": "code",
      "source": [
        "# Make the input set into variable X by naming convention\n",
        "X = music_data.drop(columns='genre')\n",
        "\n",
        "# Make the output set and store it into y by naming convention\n",
        "y = music_data['genre']"
      ],
      "metadata": {
        "id": "RwmJJZgtvWoQ"
      },
      "execution_count": null,
      "outputs": []
    },
    {
      "cell_type": "code",
      "source": [
        "# Using the train_test_split class store the input training data into X_train, input testing data into X_test, output training data\n",
        "# into y_train and output testing data into y_test and decide the test_size.\n",
        "X_train, X_test, y_train, y_test = train_test_split(X, y, test_size=0.3)"
      ],
      "metadata": {
        "id": "Uybmfh9lvuNG"
      },
      "execution_count": null,
      "outputs": []
    },
    {
      "cell_type": "code",
      "source": [
        "# Create the model object\n",
        "model = dtc()\n",
        "\n",
        "# Train the model using the X_train and the y_train\n",
        "model.fit(X_train, y_train)\n",
        "\n",
        "# Persist the model using the joblib.dump method\n",
        "joblib.dump(model, 'music_recommender.joblib')"
      ],
      "metadata": {
        "colab": {
          "base_uri": "https://localhost:8080/"
        },
        "id": "5D93lJ9Dv7S5",
        "outputId": "1239cbb2-c1ed-4bfa-ada9-0cd6cadf5a4f"
      },
      "execution_count": null,
      "outputs": [
        {
          "output_type": "execute_result",
          "data": {
            "text/plain": [
              "['music_recommender.joblib']"
            ]
          },
          "metadata": {},
          "execution_count": 9
        }
      ]
    },
    {
      "cell_type": "code",
      "source": [
        "# Load the model using the joblib.load method\n",
        "model = joblib.load('music_recommender.joblib')"
      ],
      "metadata": {
        "id": "QY-RqYdWwYJQ"
      },
      "execution_count": null,
      "outputs": []
    },
    {
      "cell_type": "code",
      "source": [
        "# Using the loaded model predict the answer by giving the X_test dataset\n",
        "predictions = model.predict(X_test)\n",
        "\n",
        "# Store the accuracy in the score variable and display it.\n",
        "score = accuracy_score(y_test, predictions)\n",
        "score"
      ],
      "metadata": {
        "colab": {
          "base_uri": "https://localhost:8080/"
        },
        "id": "6WxURXBywhjg",
        "outputId": "10702b25-e66c-4686-a1ca-9477a2ee3283"
      },
      "execution_count": null,
      "outputs": [
        {
          "output_type": "execute_result",
          "data": {
            "text/plain": [
              "1.0"
            ]
          },
          "metadata": {},
          "execution_count": 20
        }
      ]
    }
  ]
}